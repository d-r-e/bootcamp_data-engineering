{
 "cells": [
  {
   "cell_type": "code",
   "execution_count": 134,
   "id": "imported-captain",
   "metadata": {},
   "outputs": [],
   "source": [
    "import pandas as pd"
   ]
  },
  {
   "cell_type": "code",
   "execution_count": 135,
   "metadata": {},
   "outputs": [],
   "source": [
    "df = pd.read_csv('out.csv')"
   ]
  },
  {
   "cell_type": "code",
   "execution_count": 136,
   "metadata": {},
   "outputs": [],
   "source": [
    "lang_df = df.iloc[:,0-6]"
   ]
  },
  {
   "cell_type": "code",
   "execution_count": 137,
   "metadata": {},
   "outputs": [
    {
     "output_type": "execute_result",
     "data": {
      "text/plain": [
       "0        DA, NL, EN, FI, FR, DE, IT, JA, KO, NB, PL, PT...\n",
       "1                                                       EN\n",
       "2                                                       EN\n",
       "3        DA, NL, EN, FI, FR, DE, IT, JA, KO, NB, PL, PT...\n",
       "4        DA, NL, EN, FR, DE, EL, IT, JA, KO, NO, PT, RU...\n",
       "                               ...                        \n",
       "16822                                                   EN\n",
       "16823                                                   EN\n",
       "16824                                                   EN\n",
       "16825                                                   EN\n",
       "16826                                               EN, ZH\n",
       "Name: Languages, Length: 16827, dtype: object"
      ]
     },
     "metadata": {},
     "execution_count": 137
    }
   ],
   "source": [
    "lang_df"
   ]
  },
  {
   "cell_type": "code",
   "execution_count": 138,
   "metadata": {},
   "outputs": [],
   "source": [
    "lang_df = lang_df.apply(lambda x: [el.strip() for el in str(x).split(',')])\n",
    "lang_df = lang_df.explode('Languages')"
   ]
  },
  {
   "cell_type": "code",
   "execution_count": 139,
   "metadata": {},
   "outputs": [
    {
     "output_type": "execute_result",
     "data": {
      "text/plain": [
       "0        DA\n",
       "0        NL\n",
       "0        EN\n",
       "0        FI\n",
       "0        FR\n",
       "         ..\n",
       "16823    EN\n",
       "16824    EN\n",
       "16825    EN\n",
       "16826    EN\n",
       "16826    ZH\n",
       "Name: Languages, Length: 54771, dtype: object"
      ]
     },
     "metadata": {},
     "execution_count": 139
    }
   ],
   "source": [
    "lang_df "
   ]
  },
  {
   "cell_type": "code",
   "execution_count": 125,
   "metadata": {},
   "outputs": [],
   "source": []
  },
  {
   "cell_type": "code",
   "execution_count": null,
   "metadata": {},
   "outputs": [],
   "source": []
  }
 ],
 "metadata": {
  "kernelspec": {
   "name": "python3",
   "display_name": "Python 3.9.2 64-bit",
   "metadata": {
    "interpreter": {
     "hash": "54008ab113a3fbe8cad9ad285a458de75980a10706bdb9a272b48bd74182606a"
    }
   }
  },
  "language_info": {
   "codemirror_mode": {
    "name": "ipython",
    "version": 3
   },
   "file_extension": ".py",
   "mimetype": "text/x-python",
   "name": "python",
   "nbconvert_exporter": "python",
   "pygments_lexer": "ipython3",
   "version": "3.9.2-final"
  }
 },
 "nbformat": 4,
 "nbformat_minor": 5
}