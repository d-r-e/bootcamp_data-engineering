{
 "cells": [
  {
   "cell_type": "code",
   "execution_count": 1,
   "id": "structured-emerald",
   "metadata": {},
   "outputs": [],
   "source": [
    "import pandas as pd"
   ]
  },
  {
   "cell_type": "code",
   "execution_count": 12,
   "id": "hybrid-multiple",
   "metadata": {},
   "outputs": [],
   "source": [
    "df = pd.read_csv('appstore_games.normalized.csv')\n",
    "df = df.iloc[:,2:]\n",
    "df = df[['game_id', 'Name', 'Average User Rating', 'User Rating Count', 'Price', 'Description', 'Developer']]"
   ]
  },
  {
   "cell_type": "code",
   "execution_count": null,
   "id": "differential-delight",
   "metadata": {},
   "outputs": [],
   "source": []
  }
 ],
 "metadata": {
  "kernelspec": {
   "display_name": "Python 3",
   "language": "python",
   "name": "python3"
  },
  "language_info": {
   "codemirror_mode": {
    "name": "ipython",
    "version": 3
   },
   "file_extension": ".py",
   "mimetype": "text/x-python",
   "name": "python",
   "nbconvert_exporter": "python",
   "pygments_lexer": "ipython3",
   "version": "3.9.2"
  }
 },
 "nbformat": 4,
 "nbformat_minor": 5
}
